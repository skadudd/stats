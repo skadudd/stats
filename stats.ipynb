{
 "cells": [
  {
   "cell_type": "code",
   "execution_count": 1,
   "metadata": {},
   "outputs": [
    {
     "data": {
      "text/plain": [
       "0.011160261000000015"
      ]
     },
     "execution_count": 1,
     "metadata": {},
     "output_type": "execute_result"
    }
   ],
   "source": [
    "import statsmodels.api as sm\n",
    "from scipy import stats\n",
    "# Define the parameters\n",
    "\n",
    "from scipy.stats import binom\n",
    "\n",
    "# Parameters\n",
    "n = 10  # 시행 횟수\n",
    "p = 0.1 # 성공 확률\n",
    "k = 4   # 성공 횟수\n",
    "\n",
    "# Calculating the probability using binomial distribution\n",
    "probability = binom.pmf(k, n, p)\n",
    "probability\n"
   ]
  },
  {
   "cell_type": "code",
   "execution_count": 13,
   "metadata": {},
   "outputs": [
    {
     "name": "stdout",
     "output_type": "stream",
     "text": [
      "The mean number of failures before the first success in a negative binomial distribution with a success probability of 0.1 is: 9.0\n"
     ]
    }
   ],
   "source": [
    "import scipy.stats as stats\n",
    "# Define the parameters\n",
    "p = 0.1  # Probability of success\n",
    "k = 1    # Number of successes\n",
    "mean_failures = (1 - p) / p  # Mean number of failures before the first success\n",
    "print(f\"The mean number of failures before the first success in a negative binomial distribution with a success probability of {p} is: {mean_failures}\")"
   ]
  },
  {
   "cell_type": "code",
   "execution_count": 17,
   "metadata": {},
   "outputs": [
    {
     "data": {
      "text/plain": [
       "4.4550000000000075e-09"
      ]
     },
     "execution_count": 17,
     "metadata": {},
     "output_type": "execute_result"
    }
   ],
   "source": [
    "\n",
    "from scipy.stats import nbinom\n",
    "k = 10  # 목표 성공 횟수\n",
    "r = 2  # 실패 횟수\n",
    "p = 0.1 # 성공 확률\n",
    "\n",
    "# Calculating the probability using the negative binomial distribution\n",
    "probability_failure = nbinom.pmf(r, k, p)\n",
    "probability_failure\n"
   ]
  },
  {
   "cell_type": "code",
   "execution_count": null,
   "metadata": {},
   "outputs": [],
   "source": []
  }
 ],
 "metadata": {
  "kernelspec": {
   "display_name": "dl",
   "language": "python",
   "name": "python3"
  },
  "language_info": {
   "codemirror_mode": {
    "name": "ipython",
    "version": 3
   },
   "file_extension": ".py",
   "mimetype": "text/x-python",
   "name": "python",
   "nbconvert_exporter": "python",
   "pygments_lexer": "ipython3",
   "version": "3.8.16"
  }
 },
 "nbformat": 4,
 "nbformat_minor": 2
}
